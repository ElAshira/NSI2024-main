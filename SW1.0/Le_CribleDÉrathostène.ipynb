{
  "cells": [
    {
      "cell_type": "markdown",
      "metadata": {
        "id": "QpeZ6vEvnghx"
      },
      "source": [
        "\n",
        "# Crible d'Ératosthène\n",
        "\n",
        "**Le crible d'[Ératosthène](https://fr.wikipedia.org/wiki/Crible_d%27Ératosthène)** est un procédé qui permet de trouver tous les nombres premiers inférieurs à un certain entier naturel donné N. \n",
        "\n",
        "## Qu'est ce qu'un nombre premier?\n",
        "Un nombre premier est **Un entier naturel** qui admet exactement **deux diviseurs distincts entiers et positifs (qui sont alors 1 et lui-même)**. \n",
        "Cette définition exclut donc 1, qui n'a qu'un seul diviseur entier positif.\n",
        "\n",
        "##L'algorithme du Crible d'Ératosthène en Python\n",
        "\n",
        "###Première version:\n",
        "\n",
        "Réaliser le programme permettant de trouver tous les nombres premiers inférieurs à un certain entier naturel **n** donné en paramètre.\n",
        "\n",
        "Le programme doit renvoyer la liste résultante de tous les nombres premiers.\n",
        "\n",
        "Pour mieux comprendre le fonctionnement de l'algorithme en question, visualiuser cette vidéo: [Comment retrouver les 25 premiers nombres premiers - Crible d'Ératosthène](https://youtu.be/w-gI60OHXmc)\n"
      ]
    },
    {
      "cell_type": "code",
      "execution_count": 13,
      "metadata": {
        "id": "dU07P1UXnX-5"
      },
      "outputs": [
        {
          "name": "stdout",
          "output_type": "stream",
          "text": [
            "[2, 3, 5, 7, 11, 13, 17, 19, 23, 29, 31, 37, 41, 43, 47]\n",
            "Prime\n"
          ]
        }
      ],
      "source": [
        "# Ecrire et commlenter votre programme ici\n",
        "\n",
        "\n",
        "def trouver_nombres_premiers(n):\n",
        "    est_premier = [True] * (n + 1)\n",
        "    est_premier[0] = est_premier[1] = False\n",
        "\n",
        "    for nombre in range(2, int(n**0.5) + 1):\n",
        "        if est_premier[nombre]:\n",
        "            for multiple in range(nombre * nombre, n + 1, nombre):\n",
        "                est_premier[multiple] = False\n",
        "\n",
        "    nombres_premiers = [nombre for nombre in range(2, n + 1) if est_premier[nombre]]\n",
        "\n",
        "    return nombres_premiers\n",
        "\n",
        "n = 50\n",
        "resultat = trouver_nombres_premiers(n)\n",
        "print(resultat)\n"
      ]
    },
    {
      "cell_type": "markdown",
      "metadata": {
        "id": "Gk0h9ZoyciWD"
      },
      "source": [
        "###Deuxième version:\n",
        "\n",
        "Simplifier l'écriture de votre programme précédent en tenant compte des paradigmes de la programmation fonctionnelle."
      ]
    },
    {
      "cell_type": "code",
      "execution_count": null,
      "metadata": {
        "id": "PpVTxnncdDjC"
      },
      "outputs": [],
      "source": [
        "# Ecrire et commenter votre programme fonctionnel ici\n",
        "def trouver_nombres_premiers(n):\n",
        "    # Crée une liste de booléens pour représenter si chaque nombre entre 0 et n est premier.\n",
        "    est_premier = [True] * (n + 1)\n",
        "    \n",
        "    # 0 et 1 ne sont pas premiers.\n",
        "    est_premier[0], est_premier[1] = False, False\n",
        "\n",
        "    # Parcourt tous les nombres de 2 à la racine carrée de n.\n",
        "    for nombre in range(2, int(n**0.5) + 1):\n",
        "        if est_premier[nombre]:\n",
        "            # Marque les multiples du nombre courant comme non premiers.\n",
        "            for multiple in range(nombre * nombre, n + 1, nombre):\n",
        "                est_premier[multiple] = False\n",
        "\n",
        "    # Crée une liste des nombres premiers en filtrant la liste est_premier.\n",
        "    nombres_premiers = [nombre for nombre, premier in enumerate(est_premier) if premier]\n",
        "\n",
        "    return nombres_premiers\n",
        "\n",
        "n = 50\n",
        "resultat = trouver_nombres_premiers(n)\n",
        "print(resultat)\n"
      ]
    },
    {
      "cell_type": "markdown",
      "metadata": {
        "id": "xv3s1N-QeDnd"
      },
      "source": [
        "\n",
        "###Troisième version\n",
        "Ecrire un programme récursif fonctionnel utilisant le Crible d'Ératosthène"
      ]
    },
    {
      "cell_type": "code",
      "execution_count": null,
      "metadata": {},
      "outputs": [],
      "source": []
    },
    {
      "cell_type": "code",
      "execution_count": null,
      "metadata": {},
      "outputs": [],
      "source": []
    },
    {
      "cell_type": "code",
      "execution_count": null,
      "metadata": {
        "id": "1L4RBF-0etPE"
      },
      "outputs": [],
      "source": [
        "# Ecrire et commenter votre programme fonctionnel récursif ici"
      ]
    },
    {
      "cell_type": "markdown",
      "metadata": {
        "id": "8qKtFJ33eyYG"
      },
      "source": [
        "##Conclusion\n",
        "Pour suivre les étapes d'exécution de votre programme, utiliser [Python Tutor](https://pythontutor.com/visualize.html#mode=edit).\n",
        "Essayer de commenter le résultat."
      ]
    }
  ],
  "metadata": {
    "colab": {
      "name": "Le CribleDÉrathostène.ipynb",
      "provenance": []
    },
    "kernelspec": {
      "display_name": "Python 3",
      "name": "python3"
    },
    "language_info": {
      "codemirror_mode": {
        "name": "ipython",
        "version": 3
      },
      "file_extension": ".py",
      "mimetype": "text/x-python",
      "name": "python",
      "nbconvert_exporter": "python",
      "pygments_lexer": "ipython3",
      "version": "3.9.13"
    }
  },
  "nbformat": 4,
  "nbformat_minor": 0
}
